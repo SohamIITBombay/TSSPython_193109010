{
 "cells": [
  {
   "cell_type": "markdown",
   "metadata": {
    "id": "dBmd8kyLfMIg"
   },
   "source": [
    "## Paired Switching\n",
    "\n",
    "The idea behind this strategy is that if the assets are negatively correlated, then a traditional mixed portfolio might lead to a lower return than the return for the individual assets.\n",
    "\n",
    "We periodically compute the Co-relation Coefficients' Matrix and choose pair of stocks which have the most negative co-relations and trade in them. The basic idea being that if one of them would fall, then the other would rise and hence, we must switch between them!\n",
    "\n",
    "We need a re-balancing period ,i.e. The time after which we would be again calculating the co-relations and taking a different pair of stocks : **T**\n",
    "\n",
    "We would also need to keep switching between these selected stocks in a pair at a certain interval of time : **P**\n",
    "\n",
    "Next, We need to specify how many such pairs would we be trading in : **M**\n",
    "\n",
    "The Fraction of the total balance we would be investing on every turn : **R**\n",
    "\n",
    "The Brokerage Fee as a fraction of the total transaction amount : **F**\n",
    "\n"
   ]
  },
  {
   "cell_type": "code",
   "execution_count": 61,
   "metadata": {
    "id": "KhmpNcaUextd"
   },
   "outputs": [],
   "source": [
    "import numpy as np\n",
    "import pandas as pd\n",
    "import datetime\n",
    "import matplotlib.pyplot as plt\n",
    "import seaborn as sns\n",
    "\n",
    "T = 100\n",
    "P = 20\n",
    "M = 15\n",
    "R = 0.8\n",
    "F = 0.005\n",
    "N = T"
   ]
  },
  {
   "cell_type": "markdown",
   "metadata": {
    "id": "6zepnFA0xjvI"
   },
   "source": [
    "### Few Upcoming Functions(GetData and PartitionData) would be similar to the ones you encountered in the Momentum Assignment (Feel free to Copy-Paste your code from there!)"
   ]
  },
  {
   "cell_type": "markdown",
   "metadata": {
    "id": "YZQH1NuRyGLy"
   },
   "source": [
    "In the file DATA.csv , which we had uploaded in our repository, we have prices of 30 firms enlisted in S & P 500 Index (Apple, IBM, Cisco, Walmart and the like!) from 2nd January 2009 to 17th August 2020.\n",
    "\n",
    "For our purposes, We'll only be requiring certain columns. On an honest note, Just getting the Columns on Ticker, Date and Adjusted Closing Price would do the job, but if you want, you may take Opening Price as well.\n",
    "\n",
    "Read up about the [pandas.read_csv](https://pandas.pydata.org/docs/reference/api/pandas.read_csv.html) function from here, and figure out how you'll use it to do the job (You don't need all the columns!) "
   ]
  },
  {
   "cell_type": "code",
   "execution_count": 40,
   "metadata": {
    "id": "Ka_L9Ne6yOGY"
   },
   "outputs": [],
   "source": [
    "def GetData(NameOfFile):\n",
    "    #START CODE HERE\n",
    "    df = pd.read_csv(NameOfFile)[[\"tic\", \"datadate\", \"adjcp\"]]\n",
    "    \n",
    "\n",
    "    return df # pd.DataFrame Object"
   ]
  },
  {
   "cell_type": "markdown",
   "metadata": {
    "id": "xJILaZUYySQW"
   },
   "source": [
    "To aid Data-Manipulation, it would be beneficial, if we split the DataFrame into many small parts each corresponding to the data corresponding to the 30 Tickers on a particular date. These small parts could then be stored in a list.\n",
    "\n",
    "We would also be needing to remember which date is at what index, so that we can use that later. "
   ]
  },
  {
   "cell_type": "code",
   "execution_count": 41,
   "metadata": {
    "id": "I0jUbPe_yiGU"
   },
   "outputs": [],
   "source": [
    "def PartitionData(Data):\n",
    "\n",
    "    DateToIndex = {}\n",
    "    price_list = []\n",
    "\n",
    "    dates = Data.datadate.unique()\n",
    "    \n",
    "    for idx, date in enumerate(dates):\n",
    "        temp_df = Data[Data[\"datadate\"] == date][[\"tic\", \"adjcp\"]]\n",
    "        #temp_df[\"listed\"] = list(zip(temp_df.tic, temp_df.adjcp))\n",
    "        price_list.append(temp_df.adjcp.tolist())\n",
    "        DateToIndex[str(date)] = idx\n",
    "\n",
    "\n",
    "\n",
    "    return price_list, DateToIndex    # List containing of the Data Partitioned according to Date, and the Dictionary mapping Dates to their index in the list "
   ]
  },
  {
   "cell_type": "markdown",
   "metadata": {
    "id": "abBu6bdrqpcD"
   },
   "source": [
    "Now, We need a function which takes as input a pair of stocks (as indices in range 0-29), Today's date,  alongwith the Partitioned DataFrames which will tell us which of the two stocks has a better outlook for the future, and we'll simply move all our Money from one of them to the other. \n",
    "\n",
    "This will be done once in every **P** trading sessions.\n",
    "\n",
    "You could choose between the two stocks in a number of ways, the simplest of which can be what you did in the last assignment, the Momentum Indicator (i.e. Take the difference between the prices of the stocks in a certain number of days and do your deed! Remember this number of days **N** must be <= **T**)\n",
    "\n",
    "You may also use other indicators like [RSI](https://www.investopedia.com/terms/r/rsi.asp), [Stochs](https://www.investopedia.com/terms/s/stochasticoscillator.asp), [MACD](https://www.investopedia.com/terms/m/macd.asp) or anything else! (If you decide to use MACD or RSI, you could either implement other functions to calculate them or simply change your ParitionData() function to get the MACD and RSI values as they are already stored there for you!)\n",
    "\n",
    "You need not worry about getting the nearest dates (or dates at all) in this case, because all you care about is co-relations in long term and growth in short-term so it doesn't matter if you're ahead or behind a few days!\n",
    "\n",
    "'today' would be an index(integer), i.e. an index on the PartitionedDataFrames list denoting where we are at currently!\n",
    "\n",
    "Also, as you may have figured it out yourself, while DataFrames are great for Data Handling and small statistical calculations, They aren't so for big calculations as the Numpy Library has both a richer variety of functions for such manipulations and is also more efficient!\n"
   ]
  },
  {
   "cell_type": "code",
   "execution_count": 42,
   "metadata": {
    "id": "hUViRxVXwrB5"
   },
   "outputs": [],
   "source": [
    "def Switch(firstStock, SecondStock, today, PartitionedDataFrames, DateToIndex):\n",
    "    \n",
    "    \n",
    "#     today = str(today)\n",
    "#     NdaysAgo = datetime.datetime(int(today[0:4]),int(today[4:6]),int(today[6:])) + datetime.timedelta(days = -N)\n",
    "    \n",
    "#     idx = DateToIndex[today]\n",
    "#     Nidx = DateToIndex[NdaysAgo.strftime(\"%Y%m%d\")]\n",
    "    \n",
    "    NdaysAgo = datetime.datetime(int(today[0:4]),int(today[4:6]),int(today[6:])) + datetime.timedelta(days = -N)\n",
    "    if NdaysAgo.strftime(\"%Y%m%d\") not in list(DateToIndex.keys()):\n",
    "        for date in list(DateToIndex.keys()):\n",
    "            if NdaysAgo == datetime.datetime.strptime(date, \"%Y%m%d\"):\n",
    "                break\n",
    "            elif NdaysAgo < datetime.datetime.strptime(date, \"%Y%m%d\"):\n",
    "                NdaysAgo = datetime.datetime.strptime(date, \"%Y%m%d\")\n",
    "                break\n",
    "            \n",
    "    NdaysAgoStr = NdaysAgo.strftime(\"%Y%m%d\")\n",
    "    \n",
    "    NIdx = DateToIndex[NdaysAgoStr]\n",
    "    TodayIdx = DateToIndex[today]\n",
    "    \n",
    "    Momentum1 = PartitionedDataFrames[TodayIdx][firstStock] - PartitionedDataFrames[NIdx][firstStock]\n",
    "    Momentum2 = PartitionedDataFrames[TodayIdx][SecondStock] - PartitionedDataFrames[NIdx][SecondStock]\n",
    "    \n",
    "    if Momentum1 > Momentum2:\n",
    "        bestStock = firstStock\n",
    "    else:\n",
    "        bestStock = SecondStock\n",
    "\n",
    "\n",
    "\n",
    "\n",
    "    return bestStock      #One of two(firstStock/SecondStock) depending on which should grow more in the future."
   ]
  },
  {
   "cell_type": "markdown",
   "metadata": {
    "id": "CBZqJ_CszZbL"
   },
   "source": [
    "Now, We need something to simulate our [Portfolio](https://www.investopedia.com/terms/p/portfolio.asp). In order to do that we need a class, which has certain  basic features and functionalities.\n",
    "\n",
    "(Again some of the functions here, would be same as the previous assignment, so feel free to Copy-Paste)\n",
    "\n",
    "Features : \n",
    "\n",
    "\n",
    "1.   Your Initial Balance\n",
    "2.   Your Current Balance (Money which isn't invested!)\n",
    "3.   A list(/any other container) storing the number of stocks of each ticker currently in possession. (Numpy Array prefered)\n",
    "4.   Most recent prices of all the stocks (As a Numpy array)\n",
    "5.   A list of **M** or less(as it might be that less than **M** stocks are negatively co-related) Tuples of indices (i,j) where i and j are the indices (from 0-29) of stocks which are negatively co-related.\n",
    "\n",
    "Functionalities: \n",
    "\n",
    "\n",
    "\n",
    "1.   Calculating current Net Worth (Balance+Total Evaluation of all Stocks owned!) \n",
    "2.   Buying a Particular Stock (Keep the Transaction fee in mind!)\n",
    "3.   Selling a particular Stock whole (Keep the Transaction Fee in mind!)\n",
    "4.   Change Pairs (**T** period intervals) (Takes PartitionedDataFrame, DateT and today's date as input)\n",
    "5.   Rebalance Portfolio (**P** period intervals) (Takes O)\n",
    "6.   Function to change the value of most recent prices stored (Takes Numpy array as input)\n",
    "\n",
    "\n",
    "You may want to know about Numpy's Corrcoef ([np.corrcoef](https://numpy.org/doc/stable/reference/generated/numpy.corrcoef.html)) function!\n"
   ]
  },
  {
   "cell_type": "code",
   "execution_count": 43,
   "metadata": {
    "id": "SFJOHvgS1aq0"
   },
   "outputs": [],
   "source": [
    "class PortFolio:\n",
    "    def __init__(self, initialBalance, stockList, latestPrices): \n",
    "    #Initialize all variables\n",
    "        self.initialBalance = initialBalance\n",
    "        self.stockList = stockList\n",
    "        self.latestPrices = latestPrices\n",
    "        self.currentBalance = initialBalance\n",
    "        self.NegCorStocks = []\n",
    "\n",
    "    def SellStock(self, index):\n",
    "    #index : The index of the Stock to sell (0-29)\n",
    "        self.currentBalance += (self.latestPrices[index] * self.stockList[index])*(1 - F)\n",
    "        self.stockList[index] = 0\n",
    "\n",
    "    def BuyStock(self,index, number):\n",
    "    #index : The index of the Stock to buy (0-29) \n",
    "    #number : Number of shares to buy (float)\n",
    "        self.currentBalance -= (self.latestPrices[index] * number)*(1 + F)\n",
    "        self.stockList[index] += number\n",
    "\n",
    "    def CalculateNetWorth(self):\n",
    "    #Return Net Worth (All Shares' costs+ Balance)\n",
    "        return np.sum(np.multiply(self.stockList, self.latestPrices)) + self.currentBalance\n",
    "\n",
    "\n",
    "\n",
    "    def ChangePricesTo(self,newPriceVector):\n",
    "    # newPriceVector : Numpy array containing the prices of all the stocks for the current day\n",
    "        self.latestPrices = newPriceVector\n",
    "\n",
    "\n",
    "    def ChangePairs(self, PartitionedDataFrames, today, DateToIndex):  \n",
    "    # Calls the Switch function for all the pairs of stocks owned\n",
    "        \n",
    "        stockIdxToBuy = []\n",
    "        for stockIdx in self.NegCorStocks:\n",
    "            stockIdxToBuy.append(Switch(stockIdx[0], stockIdx[1], today, PartitionedDataFrames, DateToIndex))\n",
    "            \n",
    "        for i, stockIdx in enumerate(self.NegCorStocks):\n",
    "            if stockIdxToBuy[i] == stockIdx[0]:\n",
    "                \n",
    "                self.SellStock(stockIdx[1])\n",
    "                number = self.latestPrices[stockIdx[0]] / self.currentBalance\n",
    "                self.BuyStock(stockIdx[0], number)                \n",
    "                \n",
    "            elif stockIdxToBuy[i] == stockIdx[1]:\n",
    "                \n",
    "                self.SellStock(stockIdx[0])\n",
    "                number = self.latestPrices[stockIdx[1]] / self.currentBalance\n",
    "                self.BuyStock(stockIdx[1], number)\n",
    "\n",
    "\n",
    "\n",
    "    def RebalancePortfolio(self, PartitionedDataFrames, today, DateToIndex):\n",
    "    # Calculates the Co-relation Matrix and changes the list of pairs, which you'll be using to trade\n",
    "    # You'll have to take care of cases, where a single stock would be involved in two or more of the most negatively co-related Stocks\n",
    "    # It would be a good idea, to call BuyStock and SellStock from here itself, instead of calling ChangePairs later as it will cause havoc that way\n",
    "       \n",
    "        \n",
    "        pricesArray = np.array(PartitionedDataFrames).T\n",
    "        \n",
    "        R = np.corrcoef(pricesArray)\n",
    "        \n",
    "        indices = []\n",
    "        for i in range(R.shape[0]):\n",
    "            for j in range(R.shape[1]):\n",
    "                indices.append((R[i][j], (i, j)))\n",
    "            \n",
    "        TopM = sorted(indices)[:M]\n",
    "        TopMIdx = []\n",
    "        \n",
    "        for i in range(len(TopM)):\n",
    "            if TopM[i][0] < 0:\n",
    "                TopMIdx.append(TopM[i][1])\n",
    "        \n",
    "        self.NegCorStocks = TopMIdx\n",
    "        \n",
    "        self.ChangePairs(PartitionedDataFrames, today, DateToIndex)\n",
    "        \n",
    "        \n"
   ]
  },
  {
   "cell_type": "markdown",
   "metadata": {
    "id": "S2Sv0OPB6QiL"
   },
   "source": [
    "With that the difficult part is over!\n",
    "\n",
    "Now, all you need to work on is a main loop, which calls all these functions"
   ]
  },
  {
   "cell_type": "code",
   "execution_count": 62,
   "metadata": {
    "id": "8qTWYyDn6mjt"
   },
   "outputs": [],
   "source": [
    "myPortfolio = PortFolio(10000, list(np.zeros(30)), np.zeros(30))\n",
    "NetWorthAfterEachTrade = []\n",
    "\n",
    "\n",
    "#First Get the Data\n",
    "Data = GetData(\"DATA.csv\")\n",
    "PartitionedData, DateToIndex= PartitionData(Data)\n",
    "\n",
    "#\n",
    "\n",
    "Tcount = 0\n",
    "Pcount = 0\n",
    "#Start processing from the (T+1)th Day(among the ones recorded in the Data)\n",
    "for i in range(T+1, len(PartitionedData)):\n",
    "    # Change the Prices to the ith Term\n",
    "    # Get NetWorth and store in list\n",
    "    # Check if you need to rebalance Portfolio's Today\n",
    "    # Check if you need to switch stocks today\n",
    "    myPortfolio.ChangePricesTo(PartitionedData[i])\n",
    "    NetWorthAfterEachTrade.append(myPortfolio.CalculateNetWorth())\n",
    "    \n",
    "    if Tcount == T:\n",
    "        \n",
    "        for date in list(DateToIndex.keys()):\n",
    "            if DateToIndex[date] == i:\n",
    "                today = date\n",
    "                break\n",
    "                \n",
    "        myPortfolio.RebalancePortfolio(PartitionedData, today, DateToIndex)\n",
    "        \n",
    "        Tcount = 0\n",
    "    elif Pcount == P:\n",
    "        \n",
    "        for date in list(DateToIndex.keys()):\n",
    "            if DateToIndex[date] == i:\n",
    "                today = date\n",
    "                break\n",
    "        myPortfolio.ChangePairs(PartitionedData, today, DateToIndex)\n",
    "        Pcount = 0\n",
    "        \n",
    "    Tcount += 1\n",
    "    Pcount += 1\n",
    "        \n",
    "        \n",
    "    \n",
    "    \n",
    "\n"
   ]
  },
  {
   "cell_type": "markdown",
   "metadata": {
    "id": "kwewPN3O6yIF"
   },
   "source": [
    "You may need to declare the PartitionedData list global, depending on your implementation of the Above snippet as well as the various functions in the Portfolio class."
   ]
  },
  {
   "cell_type": "markdown",
   "metadata": {
    "id": "7JBJY3YU7M2C"
   },
   "source": [
    "##Moment of Truth\n",
    "\n",
    "Time to check, if your Program actually works!\n",
    "\n",
    "Plot the data you collected in various ways (Profits, PercentageProfits etc.) and see if what you did worked!\n",
    "\n",
    "Feel free to use whichever one of Matplotlib or Seaborn you want to.\n",
    "\n",
    "Feel free to copy-paste your code from the previous assignment!"
   ]
  },
  {
   "cell_type": "code",
   "execution_count": 63,
   "metadata": {
    "id": "lPQny8RK7tmN"
   },
   "outputs": [
    {
     "data": {
      "image/png": "[encoded data removed]",
      "text/plain": [
       "<Figure size 432x288 with 1 Axes>"
      ]
     },
     "metadata": {
      "needs_background": "light"
     },
     "output_type": "display_data"
    }
   ],
   "source": [
    "def VizualizeData(NetWorth):\n",
    "    \n",
    "    plt.plot(NetWorth)\n",
    "    #plt.xlabel(\"Trades\")\n",
    "    plt.ylabel(\"Net Worth\")\n",
    "    \n",
    "    plt.show()\n",
    "    \n",
    "VizualizeData(NetWorthAfterEachTrade)\n"
   ]
  },
  {
   "cell_type": "markdown",
   "metadata": {
    "id": "lsAUyiuk9r6v"
   },
   "source": [
    "You may use this cell to write about your results/performance of the model!"
   ]
  }
 ],
 "metadata": {
  "colab": {
   "collapsed_sections": [],
   "name": "Pairs.ipynb",
   "provenance": []
  },
  "kernelspec": {
   "display_name": "Python 3",
   "language": "python",
   "name": "python3"
  },
  "language_info": {
   "codemirror_mode": {
    "name": "ipython",
    "version": 3
   },
   "file_extension": ".py",
   "mimetype": "text/x-python",
   "name": "python",
   "nbconvert_exporter": "python",
   "pygments_lexer": "ipython3",
   "version": "3.9.5"
  }
 },
 "nbformat": 4,
 "nbformat_minor": 1
}
